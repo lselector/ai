{
 "cells": [
  {
   "cell_type": "markdown",
   "id": "132f3926",
   "metadata": {},
   "source": [
    "## Starlette Test Client"
   ]
  },
  {
   "cell_type": "code",
   "execution_count": 5,
   "id": "bc710f03-f183-4b2d-8f8c-405a3a1855eb",
   "metadata": {},
   "outputs": [],
   "source": [
    "from fasthtml import FastHTML\n",
    "from fasthtml.common import *\n",
    "from starlette.testclient import TestClient"
   ]
  },
  {
   "cell_type": "code",
   "execution_count": 6,
   "id": "6d1fc630-5d27-48c7-8644-91ca0e8a9c53",
   "metadata": {},
   "outputs": [],
   "source": [
    "app = FastHTML()\n",
    "\n",
    "@app.get(\"/\")\n",
    "def home():\n",
    "    return \"<h1>Hello, World</h1>\"\n",
    "\n",
    "# passing data\n",
    "@app.get(\"/greet/{nm}\")\n",
    "def greet(nm:str):\n",
    "    return f\"Good day to you, {nm}!\""
   ]
  },
  {
   "cell_type": "code",
   "execution_count": 7,
   "id": "0384156c-66d9-499a-9e06-daef795f1f7c",
   "metadata": {},
   "outputs": [
    {
     "data": {
      "text/plain": [
       "'Good day to you, Dave!'"
      ]
     },
     "execution_count": 7,
     "metadata": {},
     "output_type": "execute_result"
    }
   ],
   "source": [
    "client = TestClient(app)\n",
    "client.get(\"/greet/Dave\").text"
   ]
  },
  {
   "cell_type": "code",
   "execution_count": null,
   "id": "11fc09b6-1d92-4290-b686-137d9da77193",
   "metadata": {},
   "outputs": [],
   "source": []
  },
  {
   "cell_type": "code",
   "execution_count": null,
   "id": "055254c0-6392-49b8-8907-f12564b400c4",
   "metadata": {},
   "outputs": [],
   "source": []
  }
 ],
 "metadata": {
  "kernelspec": {
   "display_name": "Python 3 (ipykernel)",
   "language": "python",
   "name": "python3"
  },
  "language_info": {
   "codemirror_mode": {
    "name": "ipython",
    "version": 3
   },
   "file_extension": ".py",
   "mimetype": "text/x-python",
   "name": "python",
   "nbconvert_exporter": "python",
   "pygments_lexer": "ipython3",
   "version": "3.12.4"
  }
 },
 "nbformat": 4,
 "nbformat_minor": 5
}
